{
  "nbformat": 4,
  "nbformat_minor": 0,
  "metadata": {
    "colab": {
      "name": "Titanic survival.ipynb",
      "private_outputs": true,
      "provenance": [],
      "authorship_tag": "ABX9TyOC/VkhTcu53q+B421tghZk",
      "include_colab_link": true
    },
    "kernelspec": {
      "name": "python3",
      "display_name": "Python 3"
    }
  },
  "cells": [
    {
      "cell_type": "markdown",
      "metadata": {
        "id": "view-in-github",
        "colab_type": "text"
      },
      "source": [
        "<a href=\"https://colab.research.google.com/github/Camicb/practice/blob/main/Titanic_survival.ipynb\" target=\"_parent\"><img src=\"https://colab.research.google.com/assets/colab-badge.svg\" alt=\"Open In Colab\"/></a>"
      ]
    },
    {
      "cell_type": "markdown",
      "metadata": {
        "id": "la2Mlb0h8PBW"
      },
      "source": [
        "# **Titanic - Machine Learning from Disaster**"
      ]
    },
    {
      "cell_type": "markdown",
      "metadata": {
        "id": "eQwwxjPY_1UJ"
      },
      "source": [
        "# **1. Introduction**\r\n",
        "\r\n",
        "In this notebook, I will solve the Kaggle's Titanic Machine Learning Competition. The idea is to create a machine learning model that predicts which passengers survived the Titanic shipwreck.\r\n",
        "\r\n",
        "**The Challenge**\r\n",
        "\r\n",
        "The sinking of the Titanic is one of the most infamous shipwrecks in history. \r\n",
        "On April 15, 1912, during her maiden voyage, the widely considered “unsinkable” RMS Titanic sank after colliding with an iceberg. Unfortunately, there weren’t enough lifeboats for everyone onboard, resulting in the death of 1502 out of 2224 passengers and crew. \r\n",
        "While there was some element of luck involved in surviving, it seems some groups of people were more likely to survive than others.\r\n",
        "\r\n",
        "In this challenge, the idea is to build a predictive model that answers the question: “what sorts of people were more likely to survive?” using passenger data (ie name, age, gender, socio-economic class, etc)."
      ]
    },
    {
      "cell_type": "markdown",
      "metadata": {
        "id": "vge0APwEo9UW"
      },
      "source": [
        "# **2. Import Required Libraries**"
      ]
    },
    {
      "cell_type": "code",
      "metadata": {
        "id": "3nqb2x07s9WM"
      },
      "source": [
        "# !pip install missingno\r\n",
        "# !pip install https://github.com/pandas-profiling/pandas-profiling/archive/master.zip \r\n",
        "# !pip install pycaret\r\n",
        "# !pip install plotly\r\n"
      ],
      "execution_count": null,
      "outputs": []
    },
    {
      "cell_type": "code",
      "metadata": {
        "id": "gpaMsbGEdpk8"
      },
      "source": [
        "# Importing libraries\r\n",
        "import pandas as pd\r\n",
        "import numpy as np\r\n",
        "%matplotlib inline \r\n",
        "import matplotlib.pyplot as plt\r\n",
        "import seaborn as sns\r\n",
        "import missingno as msno \r\n",
        "from pandas_profiling import ProfileReport\r\n",
        "from sklearn.model_selection import train_test_split\r\n",
        "from IPython.core.interactiveshell import InteractiveShell\r\n",
        "from sklearn.impute import SimpleImputer\r\n",
        "from sklearn.neighbors import KNeighborsRegressor\r\n",
        "InteractiveShell.ast_node_interactivity = \"all\"\r\n",
        "from pycaret.utils import enable_colab\r\n",
        "enable_colab()        \r\n",
        "\r\n"
      ],
      "execution_count": null,
      "outputs": []
    },
    {
      "cell_type": "code",
      "metadata": {
        "id": "dpipAr4v1ocp"
      },
      "source": [
        "# Enabling plotly - This is useful when appears an empty white space instead of the plot after executing the cell\r\n",
        "\r\n",
        "def enable_plotly_in_cell():\r\n",
        "  import IPython\r\n",
        "  from plotly.offline import init_notebook_mode\r\n",
        "  display(IPython.core.display.HTML('''<script src=\"/static/components/requirejs/require.js\"></script>'''))\r\n",
        "  init_notebook_mode(connected=False)\r\n",
        "\r\n",
        "from plotly.offline import iplot\r\n",
        "import plotly.graph_objs as go\r\n",
        "import plotly.express as px\r\n",
        "\r\n",
        "enable_plotly_in_cell()\r\n",
        "\r\n",
        "# choosing some colors for plotly\r\n",
        "colors = ['rgb(0, 0, 100)', 'rgb(0, 200, 200)']"
      ],
      "execution_count": null,
      "outputs": []
    },
    {
      "cell_type": "markdown",
      "metadata": {
        "id": "57JCeKMhpMLt"
      },
      "source": [
        "# **3. Exploratory Data Analysis**\r\n",
        "\r\n",
        "## **3.1 About the data**\r\n",
        "\r\n",
        "Variables in the dataset:\r\n",
        "\r\n",
        "**survived:**\tSurvival, \t0 = No, 1 = Yes \r\n",
        "\r\n",
        "**pclass:**\tTicket class,\t1 = 1st, 2 = 2nd, 3 = 3rd\r\n",
        "\r\n",
        "**sex:**\tSex\t\r\n",
        "\r\n",
        "**Age:**\tAge in years\t\r\n",
        "\r\n",
        "**sibsp:**\t# of siblings / spouses aboard the Titanic\t\r\n",
        "\r\n",
        "**parch:**\t# of parents / children aboard the Titanic\t\r\n",
        "\r\n",
        "**ticket:**\tTicket number\t\r\n",
        "\r\n",
        "**fare:**\tPassenger fare\t\r\n",
        "\r\n",
        "**cabin:**\tCabin number\t\r\n",
        "\r\n",
        "**embarked:**\tPort of Embarkation\tC = Cherbourg, Q = Queenstown, S = Southampton\r\n"
      ]
    },
    {
      "cell_type": "code",
      "metadata": {
        "id": "GyUdrZ9eBEFd"
      },
      "source": [
        "#Loading the training dataset\r\n",
        "train=pd.read_csv('https://raw.githubusercontent.com/Camicb/practice/main/train_titanic.csv')\r\n",
        "#Loading the testing dataset\r\n",
        "test=pd.read_csv('https://raw.githubusercontent.com/Camicb/practice/main/test_titanic.csv')\r\n"
      ],
      "execution_count": null,
      "outputs": []
    },
    {
      "cell_type": "markdown",
      "metadata": {
        "id": "v59vY_IRBTJ8"
      },
      "source": [
        "## **3.2 Exploratory data analysis**\r\n",
        "\r\n",
        "I will explore all and each variable from an statistical view."
      ]
    },
    {
      "cell_type": "code",
      "metadata": {
        "id": "Qj9kLtXMBZAK"
      },
      "source": [
        "train.head()\r\n",
        "train.info()"
      ],
      "execution_count": null,
      "outputs": []
    },
    {
      "cell_type": "code",
      "metadata": {
        "id": "GLQMsINKSmPd"
      },
      "source": [
        "train.tail()"
      ],
      "execution_count": null,
      "outputs": []
    },
    {
      "cell_type": "code",
      "metadata": {
        "id": "xsmGyZMXBdm9"
      },
      "source": [
        "test.head()\r\n",
        "test.info()"
      ],
      "execution_count": null,
      "outputs": []
    },
    {
      "cell_type": "code",
      "metadata": {
        "id": "Hp20ec1MGEqc"
      },
      "source": [
        "# Interactive Statistical report\r\n",
        "profile = ProfileReport(train, html={'style': {'full_width': True, 'primary_color': '#30b6c2'}},  samples=None, missing_diagrams=None, interactions=None)\r\n",
        "profile.to_file(\"report.html\")\r\n",
        "profile.to_notebook_iframe()"
      ],
      "execution_count": null,
      "outputs": []
    },
    {
      "cell_type": "code",
      "metadata": {
        "id": "Sl_i7Pz3UnfR"
      },
      "source": [
        "# Visualization of missing values \r\n",
        "msno.matrix(train, figsize=(10,5), fontsize=10, color=(0.0, 0.75, 0.75))"
      ],
      "execution_count": null,
      "outputs": []
    },
    {
      "cell_type": "code",
      "metadata": {
        "id": "rXoFIeH2b4h6"
      },
      "source": [
        "# Survivals by Ticket Class\r\n",
        "colors = ['rgb(0, 0, 100)', 'rgb(0, 200, 200)']\r\n",
        "fig1 = px.histogram(train, \r\n",
        "                   x='Pclass', \r\n",
        "                   color='Survived', \r\n",
        "                   histnorm='percent', \r\n",
        "                   width=400, height=400, \r\n",
        "                   marginal='violin', \r\n",
        "                   hover_data=train.columns, \r\n",
        "                   color_discrete_sequence=colors)\r\n",
        "fig1.update_xaxes(type='category')"
      ],
      "execution_count": null,
      "outputs": []
    },
    {
      "cell_type": "code",
      "metadata": {
        "id": "LLaPmJ2MC--Y"
      },
      "source": [
        "# Survival by Sex\r\n",
        "fig2 = px.histogram(train,\r\n",
        "                    x='Sex',\r\n",
        "                    color='Survived',\r\n",
        "                    width=400, height=400,\r\n",
        "                    hover_data=train.columns,\r\n",
        "                    color_discrete_sequence=colors)\r\n",
        "fig2.update_xaxes(type='category')\r\n"
      ],
      "execution_count": null,
      "outputs": []
    },
    {
      "cell_type": "markdown",
      "metadata": {
        "id": "nH2HhKTSU1xs"
      },
      "source": [
        "# **4. Preprocessing**\r\n",
        "\r\n",
        "I will perform changes in every column in order to prepare the training data for  modeling. I will drop the columns with with more than 70% of missing values and the ones with irrelevant information. I will also transform some of the columns in order to get new and different features."
      ]
    },
    {
      "cell_type": "code",
      "metadata": {
        "id": "v5FUjEzoVkHe"
      },
      "source": [
        "def feat_eng(data):\r\n",
        "\r\n",
        "  # Name\r\n",
        "  titule=data['Name'].str.split(\",\", expand = True)\r\n",
        "  data['Titule']=titule[1]\r\n",
        "  final=data['Titule'].str.split(expand = True)\r\n",
        "  data['Titule']=final[0]\r\n",
        "\r\n",
        "  # Sex\r\n",
        "  data['Sex']= data['Sex'].replace({'male':0, 'female':1})\r\n",
        "\r\n",
        "  #Family\r\n",
        "  data['Family']=data['SibSp']+data['Parch']\r\n",
        "  data['Family']=data['Family'].apply(lambda i:'No' if i == 0 else 'Yes')\r\n",
        "  \r\n",
        "  #Drop columns\r\n",
        "  data=data.drop(['Name', 'SibSp', 'Parch', 'Ticket', 'Cabin', 'PassengerId'], axis=1)\r\n",
        "\r\n",
        "  return data"
      ],
      "execution_count": null,
      "outputs": []
    },
    {
      "cell_type": "code",
      "metadata": {
        "id": "3SkRHSAuo93Q"
      },
      "source": [
        "training=feat_eng(train)\r\n",
        "training.head()\r\n",
        "training.info()"
      ],
      "execution_count": null,
      "outputs": []
    },
    {
      "cell_type": "code",
      "metadata": {
        "id": "CPTO7HUWU6H0"
      },
      "source": [
        "# Split the train data into a new training and validation dataset\r\n",
        "X=training.drop(['Survived'], axis=1)\r\n",
        "y=training['Survived']\r\n",
        "X_train, X_val, y_train, y_val = train_test_split(X, y, test_size=0.2, random_state=42)\r\n",
        "X_train.head()"
      ],
      "execution_count": null,
      "outputs": []
    },
    {
      "cell_type": "code",
      "metadata": {
        "id": "7DXQ1IYUk-Po"
      },
      "source": [
        "# Preprocessing:\r\n",
        "  \r\n",
        "# Age\r\n",
        "mean_imputer = SimpleImputer(missing_values=np.NaN, strategy='mean')\r\n",
        "X_train['Age'] = mean_imputer.fit(X_train[['Age']])\r\n",
        "\r\n",
        "# Embarked\r\n",
        "mode_imputer = SimpleImputer(missing_values=np.NaN, strategy='most_frequent')\r\n",
        "X_train['Embarked'] = mode_imputer.fit_transform(X_train[['Embarked']])\r\n",
        "\r\n",
        "# One hot encoding\r\n",
        "#data=pd.get_dummies(data, columns=['Embarked',\t'Titule',\t'Family'])\r\n",
        "\r\n",
        "msno.matrix(X_train, figsize=(10,5), fontsize=10, color=(0.0, 0.75, 0.75)) \r\n",
        "\r\n"
      ],
      "execution_count": null,
      "outputs": []
    },
    {
      "cell_type": "code",
      "metadata": {
        "id": "5zUX6m1Uqvlp"
      },
      "source": [
        " X_train['Titule'].value_counts(normalize=True)"
      ],
      "execution_count": null,
      "outputs": []
    },
    {
      "cell_type": "markdown",
      "metadata": {
        "id": "xS4DPUE5i97B"
      },
      "source": [
        "#3. Modeling"
      ]
    },
    {
      "cell_type": "markdown",
      "metadata": {
        "id": "DTFFTnVhJWkZ"
      },
      "source": [
        "# 4. Model Performance"
      ]
    },
    {
      "cell_type": "code",
      "metadata": {
        "id": "n2ph_jiwHJAQ"
      },
      "source": [
        "#from sklearn.metrics import accuracy_score\r\n",
        "#accuracy_score(y_test, predictions)\r\n",
        "\r\n",
        "# The confusion matrix\r\n",
        "#from sklearn.metrics import confusion_matrix\r\n",
        "#confusion_matrix(y_test, predictions)"
      ],
      "execution_count": null,
      "outputs": []
    },
    {
      "cell_type": "code",
      "metadata": {
        "id": "8JD9f8MTKwR0"
      },
      "source": [
        "#from sklearn.ensemble import RandomForestClassifier\r\n",
        "# Create a random forest classifier\r\n",
        "#rf_clf = RandomForestClassifier(n_estimators=10000, random_state=1, n_jobs=-1)\r\n",
        "\r\n",
        "# n_estimators = The number of trees in the forest.\r\n",
        "# n_jobs = -1 : Use all processors for training\r\n",
        "\r\n",
        "# Train the classifier\r\n",
        "#rf_clf.fit(X_train, y_train)\r\n",
        "\r\n",
        "#plot graph of feature importances for better visualization\r\n",
        "#feat_importances = pd.Series(rf_clf.feature_importances_, index=X_train.columns)\r\n",
        "#feat_importances.nlargest(10).plot(kind='barh')\r\n",
        "#plt.show()\r\n"
      ],
      "execution_count": null,
      "outputs": []
    },
    {
      "cell_type": "markdown",
      "metadata": {
        "id": "fCQnrA2HKCCG"
      },
      "source": [
        "#5. Pycaret\r\n",
        "I will repeat the modeling part with this library."
      ]
    }
  ]
}